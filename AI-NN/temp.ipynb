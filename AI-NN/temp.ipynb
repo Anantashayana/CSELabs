{
 "cells": [
  {
   "cell_type": "code",
   "execution_count": 2,
   "metadata": {},
   "outputs": [
    {
     "name": "stdout",
     "output_type": "stream",
     "text": [
      "[('Bucharest', 0), ('Craiova', 160), ('Eforie', 161), ('Fagaras', 176), ('Dobreta', 242), ('Arad', 366)]\n",
      "['Bucharest', 'Craiova', 'Eforie', 'Fagaras', 'Dobreta', 'Arad']\n"
     ]
    }
   ],
   "source": [
    "c={'Arad': 366, 'Bucharest': 0, 'Craiova': 160, 'Dobreta': 242, 'Eforie': 161, 'Fagaras': 176}\n",
    "a=sorted(c.items(),key= lambda x:x[1])\n",
    "b=sorted(c,key=c.get)\n",
    "\n",
    "print(a)\n",
    "print(b)\n"
   ]
  }
 ],
 "metadata": {
  "kernelspec": {
   "display_name": "Python 3",
   "language": "python",
   "name": "python3"
  },
  "language_info": {
   "codemirror_mode": {
    "name": "ipython",
    "version": 3
   },
   "file_extension": ".py",
   "mimetype": "text/x-python",
   "name": "python",
   "nbconvert_exporter": "python",
   "pygments_lexer": "ipython3",
   "version": "3.11.1"
  },
  "orig_nbformat": 4,
  "vscode": {
   "interpreter": {
    "hash": "c261aea317cc0286b3b3261fbba9abdec21eaa57589985bb7a274bf54d6cc0a7"
   }
  }
 },
 "nbformat": 4,
 "nbformat_minor": 2
}
